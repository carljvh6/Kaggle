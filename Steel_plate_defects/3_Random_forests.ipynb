{
 "cells": [
  {
   "cell_type": "markdown",
   "id": "bb2d1b28-ab13-423b-91eb-3a16850fc147",
   "metadata": {},
   "source": [
    "This implementation of the Random Forests algorithm was done on my home PC CPU. The validation of the model was done calculating the average AUC for every random forest algorithm trained"
   ]
  },
  {
   "cell_type": "code",
   "execution_count": null,
   "id": "8e49f867-81b4-4d27-aaef-b6ce1ed03794",
   "metadata": {},
   "outputs": [],
   "source": []
  },
  {
   "cell_type": "markdown",
   "id": "0116856f-cf0c-46bc-81c4-1187b3ae1fe8",
   "metadata": {},
   "source": [
    "# Setup"
   ]
  },
  {
   "cell_type": "code",
   "execution_count": null,
   "id": "e4188936-cbb5-4b56-9fef-1cd9777c02d7",
   "metadata": {},
   "outputs": [],
   "source": [
    "from pathlib import Path\n",
    "import os\n",
    "\n",
    "iskaggle = os.environ.get('KAGGLE_KERNEL_RUN_TYPE', '')\n",
    "if iskaggle:\n",
    "    !pip install -Uqq fastai\n",
    "    path = Path('/kaggle/input/playground-series-s4e3')\n",
    "else:\n",
    "    import zipfile,kaggle\n",
    "    path = Path('playground-series-s4e3')\n",
    "    kaggle.api.competition_download_cli(str(path))\n",
    "    zipfile.ZipFile(f'{path}.zip').extractall(path)\n",
    "\n",
    "import pandas as pd\n",
    "import numpy as np\n",
    "import warnings\n",
    "\n",
    "import matplotlib as plt\n",
    "import seaborn as sns\n",
    "\n",
    "# from fastai.imports import *\n",
    "# from fastai.tabular.all import *\n",
    "\n",
    "# from sklearn.tree import DecisionTreeClassifier\n",
    "from sklearn.ensemble import RandomForestClassifier\n",
    "from sklearn.model_selection import train_test_split, StratifiedKFold, cross_val_predict, cross_validate, cross_val_score, GridSearchCV\n",
    "from sklearn import metrics\n",
    "from sklearn.preprocessing import LabelEncoder, MinMaxScaler\n",
    "from sklearn.metrics import accuracy_score, confusion_matrix, roc_auc_score, make_scorer, classification_report\n",
    "\n",
    "# import xgboost as xgb\n",
    "# from xgboost import XGBClassifier\n",
    "\n",
    "import optuna"
   ]
  },
  {
   "cell_type": "code",
   "execution_count": null,
   "id": "0299670a-3013-4837-9f77-9ce6efa8f3c3",
   "metadata": {},
   "outputs": [],
   "source": [
    "train_df = pd.read_csv(path/'train.csv')\n",
    "test_df = pd.read_csv(path/'test.csv')\n",
    "target_classes = [\"Pastry\", \"Z_Scratch\", \"K_Scatch\", \"Stains\", \"Dirtiness\", \"Bumps\", \"Other_Faults\"]\n",
    "targets_df = train_df[target_classes]\n",
    "X_train, X_test, y_train, y_test = train_test_split(train_df.drop(target_classes + ['id'], axis=1), \n",
    "                                                    targets_df, test_size=0.1, random_state=40)\n",
    "\n",
    "categorical = ['TypeOfSteel_A300', 'TypeOfSteel_A400', 'Outside_Global_Index']\n",
    "numerical = list(set(train_df.columns) - set(categorical) - set(target_classes))\n",
    "numerical.remove('id')\n",
    "\n",
    "X = pd.get_dummies(X_train, columns=categorical)\n",
    "y = y_train\n",
    "X_t = pd.get_dummies(X_test, columns=categorical)\n",
    "X_t.insert(len(X_t.columns)-1, 'Outside_Global_Index_0.7', 0)\n",
    "y_t = y_test"
   ]
  },
  {
   "cell_type": "markdown",
   "id": "721cb950-b2eb-48ee-b2e6-a5d864b6ca32",
   "metadata": {},
   "source": [
    "# Baseline model"
   ]
  },
  {
   "cell_type": "code",
   "execution_count": null,
   "id": "b61d1e25-511c-4d0f-a282-90ac85c3bf63",
   "metadata": {},
   "outputs": [],
   "source": [
    "The SKLearn implementation of the Random Forest algorithm, does not natively support multiclass prediction. So in order to use it for this dataset we needed to train a different classifier for each outcome. This does multiply the compute needed with the number of possible targets.\n",
    "\n",
    "https://scikit-learn.org/stable/modules/generated/sklearn.ensemble.RandomForestClassifier.html"
   ]
  },
  {
   "cell_type": "code",
   "execution_count": 5,
   "id": "1b6a27b5-c38f-4768-9be1-a83feb5ca96e",
   "metadata": {},
   "outputs": [
    {
     "name": "stdout",
     "output_type": "stream",
     "text": [
      "CPU times: user 1min 43s, sys: 264 ms, total: 1min 44s\n",
      "Wall time: 1min 44s\n"
     ]
    }
   ],
   "source": [
    "%%time\n",
    "\n",
    "classifiers = []\n",
    "for i in range(y_train.shape[1]):  \n",
    "    rf = RandomForestClassifier(n_estimators=500, random_state=42)\n",
    "    rf.fit(X, y.iloc[:, i])  \n",
    "    classifiers.append(rf)"
   ]
  },
  {
   "cell_type": "code",
   "execution_count": 6,
   "id": "f08668fb-a63f-44fc-ab35-7a0a93cd2421",
   "metadata": {},
   "outputs": [
    {
     "name": "stdout",
     "output_type": "stream",
     "text": [
      "Average AUC: 0.8812101677924596\n"
     ]
    }
   ],
   "source": [
    "auc_scores = []\n",
    "\n",
    "for i, clf in enumerate(classifiers):\n",
    "    y_pred_prob = clf.predict_proba(X_t)[:, 1]\n",
    "    auc = roc_auc_score(y_t.iloc[:, i], y_pred_prob)\n",
    "    auc_scores.append(auc)\n",
    "\n",
    "# Calculate the average AUC score across all labels\n",
    "average_auc = np.mean(auc_scores)\n",
    "print(f'Average AUC: {average_auc}')"
   ]
  },
  {
   "cell_type": "markdown",
   "id": "eb6027a8-644d-4639-b65c-2514cc93de65",
   "metadata": {},
   "source": [
    "#### The only parameter I tweaked here was the n_estimators. I tested this using different numbers of estimators and found the following, performance got better using more estimators, plateauing aroung 500:\n",
    "AUC for n Estimators, along with how long it took to train them\n",
    "* 50: 0.868462071012809 (wall time: 11.7s)\n",
    "* 100: 0.8755977066908903 (wall tim: 23.3s)\n",
    "* 200: 0.8766660708906941 (wall time: 46.5s)\n",
    "* 500: 0.8812101677924596 (wall time: 1min 44s)\n",
    "* 1000: 0.8817353228186906 (wall time: 3min 51s)"
   ]
  },
  {
   "cell_type": "markdown",
   "id": "2d70e100-9151-413f-a783-4f3e191e766d",
   "metadata": {},
   "source": [
    "# Hyperparameter tuning with Optuna"
   ]
  },
  {
   "cell_type": "markdown",
   "id": "9eff976c-2288-463a-968b-2bb337564fa6",
   "metadata": {},
   "source": [
    "## Trial 1"
   ]
  },
  {
   "cell_type": "code",
   "execution_count": 8,
   "id": "7fc3831a-51f8-47ee-9771-b40d31d30067",
   "metadata": {},
   "outputs": [],
   "source": [
    "def objective(trial):\n",
    "    # We known that more is probably always better, to a point of diminishing returns, so I just set this at 100 and we can use more when we finally train the model\n",
    "    # n_estimators = trial.suggest_int('n_estimators', 100, 1000)\n",
    "    max_depth = trial.suggest_int('max_depth', 10, 100)\n",
    "    min_samples_split = trial.suggest_int('min_samples_split', 2, 20)\n",
    "    min_samples_leaf = trial.suggest_int('min_samples_leaf', 1, 10)\n",
    "    max_features = trial.suggest_categorical('max_features', ['sqrt', 'log2'])\n",
    "\n",
    "    scores = []\n",
    "    # Train a classifier for each label\n",
    "    for i in range(y_train.shape[1]):\n",
    "        X_train_opt, X_test_opt, y_train_opt, y_test_opt = train_test_split(X, y.iloc[:, i], test_size=0.2, random_state=42)\n",
    "        \n",
    "        clf = RandomForestClassifier(\n",
    "            n_estimators=100,\n",
    "            max_depth=max_depth,\n",
    "            min_samples_split=min_samples_split,\n",
    "            min_samples_leaf=min_samples_leaf,\n",
    "            max_features=max_features,\n",
    "            random_state=42\n",
    "        )\n",
    "        clf.fit(X_train_opt, y_train_opt)\n",
    "        y_pred_opt = clf.predict(X_test_opt)\n",
    "        score = roc_auc_score(y_test_opt, y_pred_opt)\n",
    "        scores.append(score)\n",
    "    \n",
    "    # Average score across all classifiers\n",
    "    average_score = np.mean(scores)\n",
    "    return average_score"
   ]
  },
  {
   "cell_type": "code",
   "execution_count": 9,
   "id": "84c09156-e36f-434d-9cfd-0c950e72b9ae",
   "metadata": {},
   "outputs": [
    {
     "name": "stderr",
     "output_type": "stream",
     "text": [
      "[I 2024-05-18 15:56:04,450] A new study created in memory with name: no-name-1bbbe08d-a431-447a-96d7-af38b10d5770\n",
      "[I 2024-05-18 15:56:18,728] Trial 0 finished with value: 0.6624035249766821 and parameters: {'max_depth': 48, 'min_samples_split': 6, 'min_samples_leaf': 9, 'max_features': 'log2'}. Best is trial 0 with value: 0.6624035249766821.\n",
      "[I 2024-05-18 15:56:32,442] Trial 1 finished with value: 0.6629278838308331 and parameters: {'max_depth': 13, 'min_samples_split': 18, 'min_samples_leaf': 4, 'max_features': 'log2'}. Best is trial 1 with value: 0.6629278838308331.\n",
      "[I 2024-05-18 15:56:48,414] Trial 2 finished with value: 0.6668814878126674 and parameters: {'max_depth': 93, 'min_samples_split': 12, 'min_samples_leaf': 2, 'max_features': 'log2'}. Best is trial 2 with value: 0.6668814878126674.\n",
      "[I 2024-05-18 15:57:02,677] Trial 3 finished with value: 0.6624035249766821 and parameters: {'max_depth': 79, 'min_samples_split': 3, 'min_samples_leaf': 9, 'max_features': 'sqrt'}. Best is trial 2 with value: 0.6668814878126674.\n",
      "[I 2024-05-18 15:57:17,623] Trial 4 finished with value: 0.6645135754774776 and parameters: {'max_depth': 75, 'min_samples_split': 10, 'min_samples_leaf': 6, 'max_features': 'sqrt'}. Best is trial 2 with value: 0.6668814878126674.\n",
      "[I 2024-05-18 15:57:33,064] Trial 5 finished with value: 0.6654034155132527 and parameters: {'max_depth': 22, 'min_samples_split': 14, 'min_samples_leaf': 2, 'max_features': 'log2'}. Best is trial 2 with value: 0.6668814878126674.\n",
      "[I 2024-05-18 15:57:47,043] Trial 6 finished with value: 0.6624035249766821 and parameters: {'max_depth': 57, 'min_samples_split': 12, 'min_samples_leaf': 9, 'max_features': 'sqrt'}. Best is trial 2 with value: 0.6668814878126674.\n",
      "[I 2024-05-18 15:58:01,250] Trial 7 finished with value: 0.6632753806526779 and parameters: {'max_depth': 49, 'min_samples_split': 4, 'min_samples_leaf': 8, 'max_features': 'log2'}. Best is trial 2 with value: 0.6668814878126674.\n",
      "[I 2024-05-18 15:58:17,509] Trial 8 finished with value: 0.6680381931355713 and parameters: {'max_depth': 91, 'min_samples_split': 8, 'min_samples_leaf': 1, 'max_features': 'log2'}. Best is trial 8 with value: 0.6680381931355713.\n",
      "[I 2024-05-18 15:58:31,877] Trial 9 finished with value: 0.6634282519872227 and parameters: {'max_depth': 67, 'min_samples_split': 6, 'min_samples_leaf': 7, 'max_features': 'log2'}. Best is trial 8 with value: 0.6680381931355713.\n",
      "[I 2024-05-18 15:58:46,661] Trial 10 finished with value: 0.6635506964073902 and parameters: {'max_depth': 100, 'min_samples_split': 20, 'min_samples_leaf': 4, 'max_features': 'sqrt'}. Best is trial 8 with value: 0.6680381931355713.\n",
      "[I 2024-05-18 15:59:02,839] Trial 11 finished with value: 0.6658922219984661 and parameters: {'max_depth': 100, 'min_samples_split': 9, 'min_samples_leaf': 1, 'max_features': 'log2'}. Best is trial 8 with value: 0.6680381931355713.\n",
      "[I 2024-05-18 15:59:18,089] Trial 12 finished with value: 0.6659428943358282 and parameters: {'max_depth': 88, 'min_samples_split': 15, 'min_samples_leaf': 3, 'max_features': 'log2'}. Best is trial 8 with value: 0.6680381931355713.\n",
      "[I 2024-05-18 15:59:34,374] Trial 13 finished with value: 0.6680381931355713 and parameters: {'max_depth': 88, 'min_samples_split': 8, 'min_samples_leaf': 1, 'max_features': 'log2'}. Best is trial 8 with value: 0.6680381931355713.\n",
      "[I 2024-05-18 15:59:50,762] Trial 14 finished with value: 0.6640459859166453 and parameters: {'max_depth': 34, 'min_samples_split': 7, 'min_samples_leaf': 1, 'max_features': 'log2'}. Best is trial 8 with value: 0.6680381931355713.\n",
      "[I 2024-05-18 16:00:05,712] Trial 15 finished with value: 0.6674884320073585 and parameters: {'max_depth': 84, 'min_samples_split': 8, 'min_samples_leaf': 5, 'max_features': 'log2'}. Best is trial 8 with value: 0.6680381931355713.\n",
      "[I 2024-05-18 16:00:21,316] Trial 16 finished with value: 0.6655028698925082 and parameters: {'max_depth': 69, 'min_samples_split': 2, 'min_samples_leaf': 3, 'max_features': 'log2'}. Best is trial 8 with value: 0.6680381931355713.\n",
      "[I 2024-05-18 16:00:37,719] Trial 17 finished with value: 0.6678566797996321 and parameters: {'max_depth': 61, 'min_samples_split': 5, 'min_samples_leaf': 1, 'max_features': 'log2'}. Best is trial 8 with value: 0.6680381931355713.\n",
      "[I 2024-05-18 16:00:53,113] Trial 18 finished with value: 0.6686514177782447 and parameters: {'max_depth': 90, 'min_samples_split': 11, 'min_samples_leaf': 3, 'max_features': 'sqrt'}. Best is trial 18 with value: 0.6686514177782447.\n",
      "[I 2024-05-18 16:01:08,355] Trial 19 finished with value: 0.6659428943358282 and parameters: {'max_depth': 73, 'min_samples_split': 15, 'min_samples_leaf': 3, 'max_features': 'sqrt'}. Best is trial 18 with value: 0.6686514177782447.\n",
      "[I 2024-05-18 16:01:23,248] Trial 20 finished with value: 0.6666595177829596 and parameters: {'max_depth': 36, 'min_samples_split': 11, 'min_samples_leaf': 5, 'max_features': 'sqrt'}. Best is trial 18 with value: 0.6686514177782447.\n",
      "[I 2024-05-18 16:01:38,999] Trial 21 finished with value: 0.6679102599769143 and parameters: {'max_depth': 92, 'min_samples_split': 10, 'min_samples_leaf': 2, 'max_features': 'sqrt'}. Best is trial 18 with value: 0.6686514177782447.\n",
      "[I 2024-05-18 16:01:55,072] Trial 22 finished with value: 0.6660253533463243 and parameters: {'max_depth': 82, 'min_samples_split': 13, 'min_samples_leaf': 1, 'max_features': 'sqrt'}. Best is trial 18 with value: 0.6686514177782447.\n",
      "[I 2024-05-18 16:02:10,900] Trial 23 finished with value: 0.6688523550837155 and parameters: {'max_depth': 92, 'min_samples_split': 8, 'min_samples_leaf': 2, 'max_features': 'sqrt'}. Best is trial 23 with value: 0.6688523550837155.\n",
      "[I 2024-05-18 16:02:26,077] Trial 24 finished with value: 0.6657662096252405 and parameters: {'max_depth': 92, 'min_samples_split': 9, 'min_samples_leaf': 4, 'max_features': 'sqrt'}. Best is trial 23 with value: 0.6688523550837155.\n",
      "[I 2024-05-18 16:02:42,058] Trial 25 finished with value: 0.6643107227654882 and parameters: {'max_depth': 98, 'min_samples_split': 7, 'min_samples_leaf': 2, 'max_features': 'sqrt'}. Best is trial 23 with value: 0.6688523550837155.\n",
      "[I 2024-05-18 16:02:57,481] Trial 26 finished with value: 0.6686514177782447 and parameters: {'max_depth': 79, 'min_samples_split': 11, 'min_samples_leaf': 3, 'max_features': 'sqrt'}. Best is trial 23 with value: 0.6688523550837155.\n",
      "[I 2024-05-18 16:03:12,921] Trial 27 finished with value: 0.6686514177782447 and parameters: {'max_depth': 79, 'min_samples_split': 11, 'min_samples_leaf': 3, 'max_features': 'sqrt'}. Best is trial 23 with value: 0.6688523550837155.\n",
      "[I 2024-05-18 16:03:27,508] Trial 28 finished with value: 0.6641722509917781 and parameters: {'max_depth': 62, 'min_samples_split': 17, 'min_samples_leaf': 6, 'max_features': 'sqrt'}. Best is trial 23 with value: 0.6688523550837155.\n",
      "[I 2024-05-18 16:03:42,656] Trial 29 finished with value: 0.6633952282846737 and parameters: {'max_depth': 84, 'min_samples_split': 13, 'min_samples_leaf': 4, 'max_features': 'sqrt'}. Best is trial 23 with value: 0.6688523550837155.\n",
      "[I 2024-05-18 16:03:56,486] Trial 30 finished with value: 0.6628726584093181 and parameters: {'max_depth': 48, 'min_samples_split': 10, 'min_samples_leaf': 10, 'max_features': 'sqrt'}. Best is trial 23 with value: 0.6688523550837155.\n",
      "[I 2024-05-18 16:04:11,891] Trial 31 finished with value: 0.6686514177782447 and parameters: {'max_depth': 78, 'min_samples_split': 11, 'min_samples_leaf': 3, 'max_features': 'sqrt'}. Best is trial 23 with value: 0.6688523550837155.\n",
      "[I 2024-05-18 16:04:27,215] Trial 32 finished with value: 0.6650117932252021 and parameters: {'max_depth': 71, 'min_samples_split': 12, 'min_samples_leaf': 3, 'max_features': 'sqrt'}. Best is trial 23 with value: 0.6688523550837155.\n",
      "[I 2024-05-18 16:04:42,820] Trial 33 finished with value: 0.6663950820915593 and parameters: {'max_depth': 84, 'min_samples_split': 14, 'min_samples_leaf': 2, 'max_features': 'sqrt'}. Best is trial 23 with value: 0.6688523550837155.\n",
      "[I 2024-05-18 16:04:57,989] Trial 34 finished with value: 0.6657662096252405 and parameters: {'max_depth': 78, 'min_samples_split': 9, 'min_samples_leaf': 4, 'max_features': 'sqrt'}. Best is trial 23 with value: 0.6688523550837155.\n",
      "[I 2024-05-18 16:05:12,821] Trial 35 finished with value: 0.6666595177829596 and parameters: {'max_depth': 95, 'min_samples_split': 11, 'min_samples_leaf': 5, 'max_features': 'sqrt'}. Best is trial 23 with value: 0.6688523550837155.\n",
      "[I 2024-05-18 16:05:28,045] Trial 36 finished with value: 0.6674703871921046 and parameters: {'max_depth': 65, 'min_samples_split': 16, 'min_samples_leaf': 3, 'max_features': 'sqrt'}. Best is trial 23 with value: 0.6688523550837155.\n",
      "[I 2024-05-18 16:05:43,602] Trial 37 finished with value: 0.667986832350044 and parameters: {'max_depth': 75, 'min_samples_split': 13, 'min_samples_leaf': 2, 'max_features': 'sqrt'}. Best is trial 23 with value: 0.6688523550837155.\n",
      "[I 2024-05-18 16:05:58,853] Trial 38 finished with value: 0.6669062139314119 and parameters: {'max_depth': 88, 'min_samples_split': 6, 'min_samples_leaf': 4, 'max_features': 'sqrt'}. Best is trial 23 with value: 0.6688523550837155.\n",
      "[I 2024-05-18 16:06:14,606] Trial 39 finished with value: 0.6679102599769143 and parameters: {'max_depth': 80, 'min_samples_split': 10, 'min_samples_leaf': 2, 'max_features': 'sqrt'}. Best is trial 23 with value: 0.6688523550837155.\n",
      "[I 2024-05-18 16:06:29,313] Trial 40 finished with value: 0.6645135754774776 and parameters: {'max_depth': 55, 'min_samples_split': 12, 'min_samples_leaf': 6, 'max_features': 'sqrt'}. Best is trial 23 with value: 0.6688523550837155.\n",
      "[I 2024-05-18 16:06:44,746] Trial 41 finished with value: 0.6686514177782447 and parameters: {'max_depth': 77, 'min_samples_split': 11, 'min_samples_leaf': 3, 'max_features': 'sqrt'}. Best is trial 23 with value: 0.6688523550837155.\n",
      "[I 2024-05-18 16:07:00,161] Trial 42 finished with value: 0.6686514177782447 and parameters: {'max_depth': 95, 'min_samples_split': 11, 'min_samples_leaf': 3, 'max_features': 'sqrt'}. Best is trial 23 with value: 0.6688523550837155.\n",
      "[I 2024-05-18 16:07:12,562] Trial 43 finished with value: 0.6622544753634465 and parameters: {'max_depth': 10, 'min_samples_split': 9, 'min_samples_leaf': 2, 'max_features': 'sqrt'}. Best is trial 23 with value: 0.6688523550837155.\n",
      "[I 2024-05-18 16:07:27,630] Trial 44 finished with value: 0.6645582573164892 and parameters: {'max_depth': 87, 'min_samples_split': 12, 'min_samples_leaf': 4, 'max_features': 'sqrt'}. Best is trial 23 with value: 0.6688523550837155.\n",
      "[I 2024-05-18 16:07:42,929] Trial 45 finished with value: 0.6653212709767746 and parameters: {'max_depth': 80, 'min_samples_split': 14, 'min_samples_leaf': 3, 'max_features': 'sqrt'}. Best is trial 23 with value: 0.6688523550837155.\n",
      "[I 2024-05-18 16:07:57,342] Trial 46 finished with value: 0.6634282519872227 and parameters: {'max_depth': 96, 'min_samples_split': 7, 'min_samples_leaf': 7, 'max_features': 'sqrt'}. Best is trial 23 with value: 0.6688523550837155.\n",
      "[I 2024-05-18 16:08:12,330] Trial 47 finished with value: 0.6674884320073585 and parameters: {'max_depth': 73, 'min_samples_split': 10, 'min_samples_leaf': 5, 'max_features': 'sqrt'}. Best is trial 23 with value: 0.6688523550837155.\n",
      "[I 2024-05-18 16:08:27,596] Trial 48 finished with value: 0.6669062139314119 and parameters: {'max_depth': 90, 'min_samples_split': 8, 'min_samples_leaf': 4, 'max_features': 'sqrt'}. Best is trial 23 with value: 0.6688523550837155.\n",
      "[I 2024-05-18 16:08:43,670] Trial 49 finished with value: 0.6653482707585783 and parameters: {'max_depth': 41, 'min_samples_split': 5, 'min_samples_leaf': 2, 'max_features': 'sqrt'}. Best is trial 23 with value: 0.6688523550837155.\n"
     ]
    },
    {
     "name": "stdout",
     "output_type": "stream",
     "text": [
      "Best hyperparameters: {'max_depth': 92, 'min_samples_split': 8, 'min_samples_leaf': 2, 'max_features': 'sqrt'}\n",
      "CPU times: user 12min 38s, sys: 679 ms, total: 12min 39s\n",
      "Wall time: 12min 39s\n"
     ]
    }
   ],
   "source": [
    "%%time\n",
    "study = optuna.create_study(direction='maximize')\n",
    "study.optimize(objective, n_trials=50)\n",
    "print('Best hyperparameters:', study.best_params)"
   ]
  },
  {
   "cell_type": "markdown",
   "id": "88037194-536f-469a-8904-ae5e45d8d94e",
   "metadata": {},
   "source": [
    "Best hyperparameters: {'max_depth': 36, 'min_samples_split': 4, 'min_samples_leaf': 1, 'max_features': 'sqrt'}\n",
    "CPU times: user 14min 21s, sys: 1.02 s, total: 14min 22s\n",
    "Wall time: 14min 21s"
   ]
  },
  {
   "cell_type": "markdown",
   "id": "d069ea0d-5f31-471b-b1d1-8cdfe16ae334",
   "metadata": {},
   "source": [
    "### Validation"
   ]
  },
  {
   "cell_type": "code",
   "execution_count": 10,
   "id": "61a8e6c3-8bbd-40be-bd70-bcb7d3b6080f",
   "metadata": {},
   "outputs": [
    {
     "name": "stdout",
     "output_type": "stream",
     "text": [
      "Average AUC: 0.8823182876895908\n",
      "CPU times: user 1min 43s, sys: 110 ms, total: 1min 43s\n",
      "Wall time: 1min 43s\n"
     ]
    }
   ],
   "source": [
    "%%time\n",
    "\n",
    "classifiers = []\n",
    "auc_scores = []\n",
    "best_params = {'max_depth': 36, 'min_samples_split': 4, \n",
    "               'min_samples_leaf': 1, 'max_features': 'sqrt'}\n",
    "\n",
    "for i in range(y_train.shape[1]):  \n",
    "    rf = RandomForestClassifier(**best_params, n_estimators=500, random_state=42)\n",
    "    rf.fit(X, y.iloc[:, i])  \n",
    "    classifiers.append(rf)\n",
    "\n",
    "\n",
    "for i, clf in enumerate(classifiers):\n",
    "    y_pred_prob = clf.predict_proba(X_t)[:, 1]\n",
    "    auc = roc_auc_score(y_t.iloc[:, i], y_pred_prob)\n",
    "    auc_scores.append(auc)\n",
    "\n",
    "average_auc = np.mean(auc_scores)\n",
    "print(f'Average AUC: {average_auc}')"
   ]
  },
  {
   "cell_type": "markdown",
   "id": "63db6d95-50a5-4a84-9103-e4ee7dd94760",
   "metadata": {},
   "source": [
    "Average AUC: 0.8823182876895908\n",
    "CPU times: user 2min 3s, sys: 129 ms, total: 2min 3s\n",
    "Wall time: 2min \n",
    "\n",
    "Improved performance compared to 0.8812 using 500 estimators with default hyperparameters"
   ]
  },
  {
   "cell_type": "markdown",
   "id": "92205bca-e4d3-40e1-a819-981428b91a78",
   "metadata": {},
   "source": [
    "## Trial 2 - narrowing down the trial objective range of parameters"
   ]
  },
  {
   "cell_type": "code",
   "execution_count": 11,
   "id": "497a32dc-25bb-4b75-8aa3-1fbd233b9411",
   "metadata": {},
   "outputs": [],
   "source": [
    "def objective(trial):\n",
    "    # n_estimators = trial.suggest_int('n_estimators', 100, 1000)\n",
    "    max_depth = trial.suggest_int('max_depth', 30, 50)\n",
    "    min_samples_split = trial.suggest_int('min_samples_split', 2, 8)\n",
    "    min_samples_leaf = trial.suggest_int('min_samples_leaf', 1, 4)\n",
    "    # max_features = trial.suggest_categorical('max_features', ['sqrt', 'log2'])\n",
    "\n",
    "    scores = []\n",
    "    # Train a classifier for each label\n",
    "    for i in range(y_train.shape[1]):\n",
    "        X_train_opt, X_test_opt, y_train_opt, y_test_opt = train_test_split(X, y.iloc[:, i], test_size=0.2, random_state=42)\n",
    "        \n",
    "        clf = RandomForestClassifier(\n",
    "            n_estimators=100,\n",
    "            max_depth=max_depth,\n",
    "            min_samples_split=min_samples_split,\n",
    "            min_samples_leaf=min_samples_leaf,\n",
    "            # max_features=max_features,                      \n",
    "            random_state=42\n",
    "        )\n",
    "        clf.fit(X_train_opt, y_train_opt)\n",
    "        y_pred_opt = clf.predict(X_test_opt)\n",
    "        score = roc_auc_score(y_test_opt, y_pred_opt)\n",
    "        scores.append(score)\n",
    "    \n",
    "    # Average score across all classifiers\n",
    "    average_score = np.mean(scores)\n",
    "    return average_score"
   ]
  },
  {
   "cell_type": "code",
   "execution_count": 12,
   "id": "90e5d637-7a04-4bbd-9da3-190c853b001f",
   "metadata": {},
   "outputs": [
    {
     "name": "stderr",
     "output_type": "stream",
     "text": [
      "[I 2024-05-18 16:10:27,220] A new study created in memory with name: no-name-f0c3f0ef-02cb-4604-8a5d-21f8b314d153\n",
      "[I 2024-05-18 16:10:42,629] Trial 0 finished with value: 0.6667830007286936 and parameters: {'max_depth': 42, 'min_samples_split': 7, 'min_samples_leaf': 4}. Best is trial 0 with value: 0.6667830007286936.\n",
      "[I 2024-05-18 16:10:58,840] Trial 1 finished with value: 0.6699642409088071 and parameters: {'max_depth': 44, 'min_samples_split': 4, 'min_samples_leaf': 2}. Best is trial 1 with value: 0.6699642409088071.\n",
      "[I 2024-05-18 16:11:14,391] Trial 2 finished with value: 0.6639741561469414 and parameters: {'max_depth': 31, 'min_samples_split': 6, 'min_samples_leaf': 3}. Best is trial 1 with value: 0.6699642409088071.\n",
      "[I 2024-05-18 16:11:29,948] Trial 3 finished with value: 0.6655028698925082 and parameters: {'max_depth': 44, 'min_samples_split': 2, 'min_samples_leaf': 3}. Best is trial 1 with value: 0.6699642409088071.\n",
      "[I 2024-05-18 16:11:46,444] Trial 4 finished with value: 0.6678484485462297 and parameters: {'max_depth': 36, 'min_samples_split': 3, 'min_samples_leaf': 1}. Best is trial 1 with value: 0.6699642409088071.\n",
      "[I 2024-05-18 16:12:01,584] Trial 5 finished with value: 0.6669062139314119 and parameters: {'max_depth': 46, 'min_samples_split': 6, 'min_samples_leaf': 4}. Best is trial 1 with value: 0.6699642409088071.\n",
      "[I 2024-05-18 16:12:17,479] Trial 6 finished with value: 0.6699642409088071 and parameters: {'max_depth': 45, 'min_samples_split': 3, 'min_samples_leaf': 2}. Best is trial 1 with value: 0.6699642409088071.\n",
      "[I 2024-05-18 16:12:32,619] Trial 7 finished with value: 0.6669062139314119 and parameters: {'max_depth': 46, 'min_samples_split': 2, 'min_samples_leaf': 4}. Best is trial 1 with value: 0.6699642409088071.\n",
      "[I 2024-05-18 16:12:48,284] Trial 8 finished with value: 0.6688523550837155 and parameters: {'max_depth': 41, 'min_samples_split': 8, 'min_samples_leaf': 2}. Best is trial 1 with value: 0.6699642409088071.\n",
      "[I 2024-05-18 16:13:03,789] Trial 9 finished with value: 0.6655028698925082 and parameters: {'max_depth': 47, 'min_samples_split': 4, 'min_samples_leaf': 3}. Best is trial 1 with value: 0.6699642409088071.\n",
      "[I 2024-05-18 16:13:20,081] Trial 10 finished with value: 0.6678566797996321 and parameters: {'max_depth': 50, 'min_samples_split': 5, 'min_samples_leaf': 1}. Best is trial 1 with value: 0.6699642409088071.\n",
      "[I 2024-05-18 16:13:36,014] Trial 11 finished with value: 0.6702630707738175 and parameters: {'max_depth': 38, 'min_samples_split': 4, 'min_samples_leaf': 2}. Best is trial 11 with value: 0.6702630707738175.\n",
      "[I 2024-05-18 16:13:51,938] Trial 12 finished with value: 0.6701773075852905 and parameters: {'max_depth': 37, 'min_samples_split': 4, 'min_samples_leaf': 2}. Best is trial 11 with value: 0.6702630707738175.\n",
      "[I 2024-05-18 16:14:08,144] Trial 13 finished with value: 0.6701773075852905 and parameters: {'max_depth': 37, 'min_samples_split': 4, 'min_samples_leaf': 2}. Best is trial 11 with value: 0.6702630707738175.\n",
      "[I 2024-05-18 16:14:24,490] Trial 14 finished with value: 0.668025899624148 and parameters: {'max_depth': 37, 'min_samples_split': 5, 'min_samples_leaf': 1}. Best is trial 11 with value: 0.6702630707738175.\n",
      "[I 2024-05-18 16:14:40,438] Trial 15 finished with value: 0.6711295888801336 and parameters: {'max_depth': 33, 'min_samples_split': 3, 'min_samples_leaf': 2}. Best is trial 15 with value: 0.6711295888801336.\n",
      "[I 2024-05-18 16:14:55,927] Trial 16 finished with value: 0.6652549000136553 and parameters: {'max_depth': 30, 'min_samples_split': 2, 'min_samples_leaf': 3}. Best is trial 15 with value: 0.6711295888801336.\n",
      "[I 2024-05-18 16:15:12,417] Trial 17 finished with value: 0.6664512763533299 and parameters: {'max_depth': 33, 'min_samples_split': 3, 'min_samples_leaf': 1}. Best is trial 15 with value: 0.6711295888801336.\n",
      "[I 2024-05-18 16:15:28,319] Trial 18 finished with value: 0.6709605748518422 and parameters: {'max_depth': 34, 'min_samples_split': 3, 'min_samples_leaf': 2}. Best is trial 15 with value: 0.6711295888801336.\n",
      "[I 2024-05-18 16:15:43,786] Trial 19 finished with value: 0.6647341772419919 and parameters: {'max_depth': 34, 'min_samples_split': 3, 'min_samples_leaf': 3}. Best is trial 15 with value: 0.6711295888801336.\n",
      "[I 2024-05-18 16:16:00,126] Trial 20 finished with value: 0.6684196269224968 and parameters: {'max_depth': 33, 'min_samples_split': 5, 'min_samples_leaf': 1}. Best is trial 15 with value: 0.6711295888801336.\n",
      "[I 2024-05-18 16:16:16,007] Trial 21 finished with value: 0.670110003501812 and parameters: {'max_depth': 35, 'min_samples_split': 3, 'min_samples_leaf': 2}. Best is trial 15 with value: 0.6711295888801336.\n",
      "[I 2024-05-18 16:16:31,824] Trial 22 finished with value: 0.6701126332700029 and parameters: {'max_depth': 39, 'min_samples_split': 4, 'min_samples_leaf': 2}. Best is trial 15 with value: 0.6711295888801336.\n",
      "[I 2024-05-18 16:16:47,704] Trial 23 finished with value: 0.6701126332700029 and parameters: {'max_depth': 39, 'min_samples_split': 2, 'min_samples_leaf': 2}. Best is trial 15 with value: 0.6711295888801336.\n",
      "[I 2024-05-18 16:17:03,532] Trial 24 finished with value: 0.6713363123390057 and parameters: {'max_depth': 31, 'min_samples_split': 3, 'min_samples_leaf': 2}. Best is trial 24 with value: 0.6713363123390057.\n",
      "[I 2024-05-18 16:17:18,919] Trial 25 finished with value: 0.6652549000136553 and parameters: {'max_depth': 30, 'min_samples_split': 3, 'min_samples_leaf': 3}. Best is trial 24 with value: 0.6713363123390057.\n",
      "[I 2024-05-18 16:17:34,752] Trial 26 finished with value: 0.6711919897951439 and parameters: {'max_depth': 32, 'min_samples_split': 2, 'min_samples_leaf': 2}. Best is trial 24 with value: 0.6713363123390057.\n",
      "[I 2024-05-18 16:17:51,128] Trial 27 finished with value: 0.6656831226569807 and parameters: {'max_depth': 32, 'min_samples_split': 2, 'min_samples_leaf': 1}. Best is trial 24 with value: 0.6713363123390057.\n",
      "[I 2024-05-18 16:18:06,870] Trial 28 finished with value: 0.6713363123390057 and parameters: {'max_depth': 31, 'min_samples_split': 2, 'min_samples_leaf': 2}. Best is trial 24 with value: 0.6713363123390057.\n",
      "[I 2024-05-18 16:18:22,208] Trial 29 finished with value: 0.6639741561469414 and parameters: {'max_depth': 31, 'min_samples_split': 2, 'min_samples_leaf': 3}. Best is trial 24 with value: 0.6713363123390057.\n",
      "[I 2024-05-18 16:18:38,525] Trial 30 finished with value: 0.6657219057526733 and parameters: {'max_depth': 31, 'min_samples_split': 2, 'min_samples_leaf': 1}. Best is trial 24 with value: 0.6713363123390057.\n",
      "[I 2024-05-18 16:18:54,261] Trial 31 finished with value: 0.6711295888801336 and parameters: {'max_depth': 33, 'min_samples_split': 2, 'min_samples_leaf': 2}. Best is trial 24 with value: 0.6713363123390057.\n",
      "[I 2024-05-18 16:19:10,009] Trial 32 finished with value: 0.6711919897951439 and parameters: {'max_depth': 32, 'min_samples_split': 3, 'min_samples_leaf': 2}. Best is trial 24 with value: 0.6713363123390057.\n",
      "[I 2024-05-18 16:19:25,759] Trial 33 finished with value: 0.669261778206011 and parameters: {'max_depth': 30, 'min_samples_split': 2, 'min_samples_leaf': 2}. Best is trial 24 with value: 0.6713363123390057.\n",
      "[I 2024-05-18 16:19:41,521] Trial 34 finished with value: 0.6669317140502253 and parameters: {'max_depth': 35, 'min_samples_split': 6, 'min_samples_leaf': 2}. Best is trial 24 with value: 0.6713363123390057.\n",
      "[I 2024-05-18 16:19:57,199] Trial 35 finished with value: 0.6640473835206359 and parameters: {'max_depth': 32, 'min_samples_split': 7, 'min_samples_leaf': 2}. Best is trial 24 with value: 0.6713363123390057.\n",
      "[I 2024-05-18 16:20:12,652] Trial 36 finished with value: 0.6643629121396691 and parameters: {'max_depth': 32, 'min_samples_split': 3, 'min_samples_leaf': 3}. Best is trial 24 with value: 0.6713363123390057.\n",
      "[I 2024-05-18 16:20:28,386] Trial 37 finished with value: 0.670110003501812 and parameters: {'max_depth': 35, 'min_samples_split': 2, 'min_samples_leaf': 2}. Best is trial 24 with value: 0.6713363123390057.\n",
      "[I 2024-05-18 16:20:43,708] Trial 38 finished with value: 0.6639741561469414 and parameters: {'max_depth': 31, 'min_samples_split': 3, 'min_samples_leaf': 3}. Best is trial 24 with value: 0.6713363123390057.\n",
      "[I 2024-05-18 16:20:59,480] Trial 39 finished with value: 0.6709605748518422 and parameters: {'max_depth': 34, 'min_samples_split': 4, 'min_samples_leaf': 2}. Best is trial 24 with value: 0.6713363123390057.\n",
      "[I 2024-05-18 16:21:14,454] Trial 40 finished with value: 0.6669062139314119 and parameters: {'max_depth': 43, 'min_samples_split': 2, 'min_samples_leaf': 4}. Best is trial 24 with value: 0.6713363123390057.\n",
      "[I 2024-05-18 16:21:30,213] Trial 41 finished with value: 0.6711919897951439 and parameters: {'max_depth': 32, 'min_samples_split': 3, 'min_samples_leaf': 2}. Best is trial 24 with value: 0.6713363123390057.\n",
      "[I 2024-05-18 16:21:45,941] Trial 42 finished with value: 0.6713363123390057 and parameters: {'max_depth': 31, 'min_samples_split': 3, 'min_samples_leaf': 2}. Best is trial 24 with value: 0.6713363123390057.\n",
      "[I 2024-05-18 16:22:01,680] Trial 43 finished with value: 0.669261778206011 and parameters: {'max_depth': 30, 'min_samples_split': 3, 'min_samples_leaf': 2}. Best is trial 24 with value: 0.6713363123390057.\n",
      "[I 2024-05-18 16:22:17,425] Trial 44 finished with value: 0.6713363123390057 and parameters: {'max_depth': 31, 'min_samples_split': 4, 'min_samples_leaf': 2}. Best is trial 24 with value: 0.6713363123390057.\n",
      "[I 2024-05-18 16:22:33,247] Trial 45 finished with value: 0.6654650438328481 and parameters: {'max_depth': 31, 'min_samples_split': 5, 'min_samples_leaf': 2}. Best is trial 24 with value: 0.6713363123390057.\n",
      "[I 2024-05-18 16:22:49,532] Trial 46 finished with value: 0.6700556174485881 and parameters: {'max_depth': 30, 'min_samples_split': 4, 'min_samples_leaf': 1}. Best is trial 24 with value: 0.6713363123390057.\n",
      "[I 2024-05-18 16:23:05,233] Trial 47 finished with value: 0.6702984756453898 and parameters: {'max_depth': 41, 'min_samples_split': 4, 'min_samples_leaf': 2}. Best is trial 24 with value: 0.6713363123390057.\n",
      "[I 2024-05-18 16:23:20,951] Trial 48 finished with value: 0.6704568059027043 and parameters: {'max_depth': 36, 'min_samples_split': 2, 'min_samples_leaf': 2}. Best is trial 24 with value: 0.6713363123390057.\n",
      "[I 2024-05-18 16:23:36,215] Trial 49 finished with value: 0.6661892538979741 and parameters: {'max_depth': 34, 'min_samples_split': 8, 'min_samples_leaf': 3}. Best is trial 24 with value: 0.6713363123390057.\n"
     ]
    },
    {
     "name": "stdout",
     "output_type": "stream",
     "text": [
      "Best hyperparameters: {'max_depth': 31, 'min_samples_split': 3, 'min_samples_leaf': 2}\n",
      "CPU times: user 13min 8s, sys: 320 ms, total: 13min 9s\n",
      "Wall time: 13min 8s\n"
     ]
    }
   ],
   "source": [
    "%%time\n",
    "study = optuna.create_study(direction='maximize')\n",
    "study.optimize(objective, n_trials=50)\n",
    "print('Best hyperparameters:', study.best_params)"
   ]
  },
  {
   "cell_type": "markdown",
   "id": "b5c5202a-04c2-4011-9bb5-da33f5f4e67b",
   "metadata": {},
   "source": [
    "Best hyperparameters: {'max_depth': 35, 'min_samples_split': 4, 'min_samples_leaf': 1} CPU times: user 15min 46s, sys: 1.01 s, total: 15min 47s Wall time: 15min 46s2s"
   ]
  },
  {
   "cell_type": "markdown",
   "id": "95a01d17-04fa-4574-b6bf-45dbdf8a0008",
   "metadata": {},
   "source": [
    "### Validation "
   ]
  },
  {
   "cell_type": "code",
   "execution_count": 13,
   "id": "3430dc70-65f1-4a55-b878-dc85db0b77e7",
   "metadata": {},
   "outputs": [
    {
     "name": "stdout",
     "output_type": "stream",
     "text": [
      "Average AUC: 0.882186685671311\n",
      "CPU times: user 1min 48s, sys: 103 ms, total: 1min 48s\n",
      "Wall time: 1min 48s\n"
     ]
    }
   ],
   "source": [
    "%%time\n",
    "\n",
    "classifiers = []\n",
    "auc_scores = []\n",
    "best_params = {'max_depth': 35, 'min_samples_split': 4, 'min_samples_leaf': 1}\n",
    "\n",
    "\n",
    "for i in range(y_train.shape[1]):  \n",
    "    rf = RandomForestClassifier(**best_params, n_estimators=500, random_state=42, oob_score=roc_auc_score)\n",
    "    rf.fit(X, y.iloc[:, i])  \n",
    "    classifiers.append(rf)\n",
    "\n",
    "\n",
    "for i, clf in enumerate(classifiers):\n",
    "    # Predict the probability of the positive class\n",
    "    y_pred_prob = clf.predict_proba(X_t)[:, 1]\n",
    "    # Calculate the AUC score\n",
    "    auc = roc_auc_score(y_t.iloc[:, i], y_pred_prob)\n",
    "    auc_scores.append(auc)\n",
    "\n",
    "# Calculate the average AUC score across all labels\n",
    "average_auc = np.mean(auc_scores)\n",
    "print(f'Average AUC: {average_auc}')"
   ]
  },
  {
   "cell_type": "code",
   "execution_count": null,
   "id": "1cd1fa03-c949-44a8-ba0d-e38f93cd6139",
   "metadata": {},
   "outputs": [],
   "source": []
  }
 ],
 "metadata": {
  "kernelspec": {
   "display_name": "Python 3 (ipykernel)",
   "language": "python",
   "name": "python3"
  },
  "language_info": {
   "codemirror_mode": {
    "name": "ipython",
    "version": 3
   },
   "file_extension": ".py",
   "mimetype": "text/x-python",
   "name": "python",
   "nbconvert_exporter": "python",
   "pygments_lexer": "ipython3",
   "version": "3.10.13"
  }
 },
 "nbformat": 4,
 "nbformat_minor": 5
}
