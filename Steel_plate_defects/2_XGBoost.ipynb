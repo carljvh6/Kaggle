{
 "cells": [
  {
   "cell_type": "markdown",
   "id": "1d65436f-e0b1-4c0f-aba8-a12598312a99",
   "metadata": {},
   "source": []
  },
  {
   "cell_type": "markdown",
   "id": "4fba3092-08e1-4928-b211-ea3143054d7f",
   "metadata": {
    "jp-MarkdownHeadingCollapsed": true
   },
   "source": [
    "# Setup"
   ]
  },
  {
   "cell_type": "code",
   "execution_count": 1,
   "id": "99c08105-7410-49be-b3c3-95c6e67cf8c9",
   "metadata": {},
   "outputs": [
    {
     "name": "stdout",
     "output_type": "stream",
     "text": [
      "playground-series-s4e3.zip: Skipping, found more recently modified local copy (use --force to force download)\n"
     ]
    }
   ],
   "source": [
    "from pathlib import Path\n",
    "import os\n",
    "\n",
    "iskaggle = os.environ.get('KAGGLE_KERNEL_RUN_TYPE', '')\n",
    "if iskaggle:\n",
    "    !pip install -Uqq fastai\n",
    "    path = Path('/kaggle/input/playground-series-s4e3')\n",
    "else:\n",
    "    import zipfile,kaggle\n",
    "    path = Path('playground-series-s4e3')\n",
    "    kaggle.api.competition_download_cli(str(path))\n",
    "    zipfile.ZipFile(f'{path}.zip').extractall(path)\n",
    "\n",
    "import pandas as pd\n",
    "import numpy as np\n",
    "import warnings\n",
    "\n",
    "import matplotlib as plt\n",
    "import seaborn as sns\n",
    "\n",
    "# from fastai.imports import *\n",
    "# from fastai.tabular.all import *\n",
    "\n",
    "# from sklearn.tree import DecisionTreeClassifier\n",
    "# from sklearn.ensemble import RandomForestClassifier\n",
    "from sklearn.model_selection import train_test_split, StratifiedKFold, cross_val_predict, cross_validate, cross_val_score, GridSearchCV\n",
    "from sklearn import metrics\n",
    "from sklearn.preprocessing import LabelEncoder, MinMaxScaler\n",
    "from sklearn.metrics import accuracy_score, confusion_matrix, roc_auc_score, make_scorer, classification_report\n",
    "\n",
    "import xgboost as xgb\n",
    "from xgboost import XGBClassifier\n",
    "\n",
    "import optuna"
   ]
  },
  {
   "cell_type": "code",
   "execution_count": 2,
   "id": "a226b96a-bb6f-474e-b872-88ece82fea1b",
   "metadata": {},
   "outputs": [],
   "source": [
    "train_df = pd.read_csv(path/'train.csv')\n",
    "test_df = pd.read_csv(path/'test.csv')\n",
    "target_classes = [\"Pastry\", \"Z_Scratch\", \"K_Scatch\", \"Stains\", \"Dirtiness\", \"Bumps\", \"Other_Faults\"]\n",
    "targets_df = train_df[target_classes]\n",
    "X_train, X_test, y_train, y_test = train_test_split(train_df.drop(target_classes + ['id'], axis=1), \n",
    "                                                    targets_df, test_size=0.1, random_state=40)\n",
    "\n",
    "categorical = ['TypeOfSteel_A300', 'TypeOfSteel_A400', 'Outside_Global_Index']\n",
    "numerical = list(set(train_df.columns) - set(categorical) - set(target_classes))\n",
    "numerical.remove('id')\n",
    "\n",
    "X = pd.get_dummies(X_train, columns=categorical)\n",
    "y = y_train\n",
    "X_t = pd.get_dummies(X_test, columns=categorical)\n",
    "X_t.insert(len(X_t.columns)-1, 'Outside_Global_Index_0.7', 0)\n",
    "y_t = y_test"
   ]
  },
  {
   "cell_type": "markdown",
   "id": "3118e841-0322-4fa9-bb63-05cef705a4b1",
   "metadata": {},
   "source": [
    "# Baseline"
   ]
  },
  {
   "cell_type": "code",
   "execution_count": 3,
   "id": "cb913e86-4c5d-40ac-af37-1ecaa2b43d09",
   "metadata": {},
   "outputs": [
    {
     "name": "stdout",
     "output_type": "stream",
     "text": [
      "ROC AUC: 0.8695190595359483\n",
      "CPU times: user 2min 35s, sys: 1.84 s, total: 2min 37s\n",
      "Wall time: 9.93 s\n"
     ]
    }
   ],
   "source": [
    "%%time\n",
    "xgb_sk_base = XGBClassifier(objective='binary:logistic')\n",
    "\n",
    "def auc_score(estimator, X, y):\n",
    "    y_prob = estimator.predict_proba(X)\n",
    "    return roc_auc_score(y, y_prob, multi_class=\"ovr\")\n",
    "\n",
    "scores = cross_val_score(xgb_sk_base, X, y, scoring=auc_score, cv=5)\n",
    "print(f'ROC AUC during cross validation: {scores.mean()}')"
   ]
  },
  {
   "cell_type": "code",
   "execution_count": 5,
   "id": "20a36b25-3388-4a0d-b59c-2240c8315384",
   "metadata": {},
   "outputs": [
    {
     "name": "stdout",
     "output_type": "stream",
     "text": [
      "ROC AUC on the test set: 0.8744220473564709\n"
     ]
    }
   ],
   "source": [
    "xgb_sk_base.fit(X, y)\n",
    "preds = xgb_sk_base.predict_proba(X_t)\n",
    "score = roc_auc_score(y_t, preds, multi_class='ovr')\n",
    "score\n",
    "print(f'ROC AUC on the test set: {score}')"
   ]
  },
  {
   "cell_type": "markdown",
   "id": "d9e35abe-8d05-4f1d-a353-f4aa558d79a8",
   "metadata": {},
   "source": [
    "# Optuna for optimisation of hyperparameters"
   ]
  },
  {
   "cell_type": "markdown",
   "id": "740ff478-4089-411c-897a-068271bbbaea",
   "metadata": {},
   "source": [
    "With the default parameters I got a ROC_AUC score of 0.8744220473564709 on the test set and ROC AUC: 0.8695190595359483 on 5-fold cross-validation, we will now see if we can improve that using Optuna for Bayesian optimisation.\n",
    "\n",
    "See [here](https://xgboost.readthedocs.io/en/stable/parameter.html) for the documentation containing all the hyperparameters with their default settings.\n",
    "\n",
    "See [this](https://xgboost.readthedocs.io/en/stable/tutorials/param_tuning.html) for the XGB docs on optimising hyperparameters"
   ]
  },
  {
   "cell_type": "markdown",
   "id": "461d59ff-639f-42c5-b592-7425760970c8",
   "metadata": {},
   "source": [
    "## Trial 1"
   ]
  },
  {
   "cell_type": "code",
   "execution_count": 6,
   "id": "2b8f60e9-3065-425b-9f89-f4cbca94e547",
   "metadata": {},
   "outputs": [
    {
     "name": "stderr",
     "output_type": "stream",
     "text": [
      "[I 2024-05-18 18:11:12,490] A new study created in memory with name: no-name-52d3f095-6422-4c6d-9475-9e3a638734c2\n",
      "[I 2024-05-18 18:11:15,864] Trial 0 finished with value: 0.8411229492772497 and parameters: {'learning_rate': 0.007238756199821027, 'min_split_loss': 24, 'reg_lambda': 25, 'max_depth': 10, 'subsample': 0.5069477618138633, 'colsample_bytree': 0.16520559215517258, 'min_child_weight': 18}. Best is trial 0 with value: 0.8411229492772497.\n",
      "[I 2024-05-18 18:11:20,666] Trial 1 finished with value: 0.8289227418347395 and parameters: {'learning_rate': 0.0018209400392888574, 'min_split_loss': 30, 'reg_lambda': 14, 'max_depth': 6, 'subsample': 0.5767450282681376, 'colsample_bytree': 0.8932312400905561, 'min_child_weight': 8}. Best is trial 0 with value: 0.8411229492772497.\n",
      "[I 2024-05-18 18:11:24,759] Trial 2 finished with value: 0.8449900854727715 and parameters: {'learning_rate': 0.0019895196957494753, 'min_split_loss': 10, 'reg_lambda': 24, 'max_depth': 9, 'subsample': 0.6440060247623542, 'colsample_bytree': 0.24953922437072223, 'min_child_weight': 5}. Best is trial 2 with value: 0.8449900854727715.\n",
      "[I 2024-05-18 18:11:27,737] Trial 3 finished with value: 0.8592317717564161 and parameters: {'learning_rate': 0.0483339424325298, 'min_split_loss': 10, 'reg_lambda': 19, 'max_depth': 4, 'subsample': 0.9158047835363081, 'colsample_bytree': 0.055205632916183356, 'min_child_weight': 12}. Best is trial 3 with value: 0.8592317717564161.\n",
      "[I 2024-05-18 18:11:31,033] Trial 4 finished with value: 0.8475082646422715 and parameters: {'learning_rate': 0.0019063965037064453, 'min_split_loss': 8, 'reg_lambda': 16, 'max_depth': 4, 'subsample': 0.6583162777170067, 'colsample_bytree': 0.21921146209325415, 'min_child_weight': 19}. Best is trial 3 with value: 0.8592317717564161.\n",
      "[I 2024-05-18 18:11:33,472] Trial 5 finished with value: 0.8747544981626578 and parameters: {'learning_rate': 0.07093575976483739, 'min_split_loss': 10, 'reg_lambda': 4, 'max_depth': 2, 'subsample': 0.4069046658836412, 'colsample_bytree': 0.4891793357024312, 'min_child_weight': 18}. Best is trial 5 with value: 0.8747544981626578.\n",
      "[I 2024-05-18 18:11:37,321] Trial 6 finished with value: 0.8400963888444716 and parameters: {'learning_rate': 0.010839600193980569, 'min_split_loss': 19, 'reg_lambda': 27, 'max_depth': 5, 'subsample': 0.3339301372673725, 'colsample_bytree': 0.22228846075469322, 'min_child_weight': 11}. Best is trial 5 with value: 0.8747544981626578.\n",
      "[I 2024-05-18 18:11:41,142] Trial 7 finished with value: 0.8335378385696821 and parameters: {'learning_rate': 0.003876073386556344, 'min_split_loss': 17, 'reg_lambda': 14, 'max_depth': 3, 'subsample': 0.4565934190184261, 'colsample_bytree': 0.8636659890403966, 'min_child_weight': 9}. Best is trial 5 with value: 0.8747544981626578.\n",
      "[I 2024-05-18 18:11:43,685] Trial 8 finished with value: 0.8731400984221098 and parameters: {'learning_rate': 0.06345506315577268, 'min_split_loss': 15, 'reg_lambda': 22, 'max_depth': 2, 'subsample': 0.9362931266904592, 'colsample_bytree': 0.6357017445347534, 'min_child_weight': 4}. Best is trial 5 with value: 0.8747544981626578.\n",
      "[I 2024-05-18 18:11:45,780] Trial 9 finished with value: 0.8642154402468323 and parameters: {'learning_rate': 0.3107099431706091, 'min_split_loss': 24, 'reg_lambda': 6, 'max_depth': 3, 'subsample': 0.2748819729835679, 'colsample_bytree': 0.9955445714655884, 'min_child_weight': 1}. Best is trial 5 with value: 0.8747544981626578.\n",
      "[I 2024-05-18 18:11:47,842] Trial 10 finished with value: 0.8435371827842232 and parameters: {'learning_rate': 0.48432839702693303, 'min_split_loss': 1, 'reg_lambda': 2, 'max_depth': 1, 'subsample': 0.0661024881870424, 'colsample_bytree': 0.5108913789280176, 'min_child_weight': 15}. Best is trial 5 with value: 0.8747544981626578.\n",
      "[I 2024-05-18 18:11:49,921] Trial 11 finished with value: 0.8623905449994732 and parameters: {'learning_rate': 0.06488351383282867, 'min_split_loss': 4, 'reg_lambda': 8, 'max_depth': 1, 'subsample': 0.9425493291511842, 'colsample_bytree': 0.5982889788248515, 'min_child_weight': 4}. Best is trial 5 with value: 0.8747544981626578.\n",
      "[I 2024-05-18 18:11:53,935] Trial 12 finished with value: 0.8765034089168932 and parameters: {'learning_rate': 0.08933990586529704, 'min_split_loss': 14, 'reg_lambda': 30, 'max_depth': 7, 'subsample': 0.811314268072528, 'colsample_bytree': 0.5500971479802662, 'min_child_weight': 15}. Best is trial 12 with value: 0.8765034089168932.\n",
      "[I 2024-05-18 18:11:57,537] Trial 13 finished with value: 0.8766220502701613 and parameters: {'learning_rate': 0.15543176750157248, 'min_split_loss': 13, 'reg_lambda': 29, 'max_depth': 7, 'subsample': 0.7170942213992173, 'colsample_bytree': 0.4603717761648833, 'min_child_weight': 15}. Best is trial 13 with value: 0.8766220502701613.\n",
      "[I 2024-05-18 18:12:00,899] Trial 14 finished with value: 0.8755474060160175 and parameters: {'learning_rate': 0.1799089321765683, 'min_split_loss': 15, 'reg_lambda': 30, 'max_depth': 7, 'subsample': 0.8041244155469984, 'colsample_bytree': 0.3911192875795104, 'min_child_weight': 14}. Best is trial 13 with value: 0.8766220502701613.\n",
      "[I 2024-05-18 18:12:03,333] Trial 15 finished with value: 0.8723101594214041 and parameters: {'learning_rate': 0.16554864359130214, 'min_split_loss': 20, 'reg_lambda': 30, 'max_depth': 8, 'subsample': 0.7906559310979766, 'colsample_bytree': 0.6920317531727391, 'min_child_weight': 16}. Best is trial 13 with value: 0.8766220502701613.\n",
      "[I 2024-05-18 18:12:07,121] Trial 16 finished with value: 0.8692149654004668 and parameters: {'learning_rate': 0.020719446565717083, 'min_split_loss': 13, 'reg_lambda': 20, 'max_depth': 7, 'subsample': 0.7794680140451787, 'colsample_bytree': 0.3879840393970906, 'min_child_weight': 13}. Best is trial 13 with value: 0.8766220502701613.\n",
      "[I 2024-05-18 18:12:10,401] Trial 17 finished with value: 0.8809703451356604 and parameters: {'learning_rate': 0.13926297520099898, 'min_split_loss': 6, 'reg_lambda': 27, 'max_depth': 8, 'subsample': 0.711521810832154, 'colsample_bytree': 0.7395107081245202, 'min_child_weight': 16}. Best is trial 17 with value: 0.8809703451356604.\n",
      "[I 2024-05-18 18:12:15,563] Trial 18 finished with value: 0.8744422656945169 and parameters: {'learning_rate': 0.0277862881802835, 'min_split_loss': 5, 'reg_lambda': 26, 'max_depth': 9, 'subsample': 0.6922148183161598, 'colsample_bytree': 0.7797322799772428, 'min_child_weight': 20}. Best is trial 17 with value: 0.8809703451356604.\n",
      "[I 2024-05-18 18:12:19,841] Trial 19 finished with value: 0.882396559656363 and parameters: {'learning_rate': 0.1318407552895979, 'min_split_loss': 5, 'reg_lambda': 9, 'max_depth': 10, 'subsample': 0.5818424623583075, 'colsample_bytree': 0.7119501653582287, 'min_child_weight': 17}. Best is trial 19 with value: 0.882396559656363.\n",
      "[I 2024-05-18 18:12:25,751] Trial 20 finished with value: 0.8710121185276408 and parameters: {'learning_rate': 0.02994814586327983, 'min_split_loss': 0, 'reg_lambda': 10, 'max_depth': 10, 'subsample': 0.20170198096216502, 'colsample_bytree': 0.7487157210968364, 'min_child_weight': 17}. Best is trial 19 with value: 0.882396559656363.\n",
      "[I 2024-05-18 18:12:29,330] Trial 21 finished with value: 0.8818470294051821 and parameters: {'learning_rate': 0.1729375248796429, 'min_split_loss': 5, 'reg_lambda': 11, 'max_depth': 8, 'subsample': 0.5652714679326156, 'colsample_bytree': 0.3988864927965954, 'min_child_weight': 16}. Best is trial 19 with value: 0.882396559656363.\n",
      "[I 2024-05-18 18:12:34,000] Trial 22 finished with value: 0.8781157019474971 and parameters: {'learning_rate': 0.2713803103966291, 'min_split_loss': 4, 'reg_lambda': 11, 'max_depth': 9, 'subsample': 0.5598024373716228, 'colsample_bytree': 0.8024062720116489, 'min_child_weight': 20}. Best is trial 19 with value: 0.882396559656363.\n",
      "[I 2024-05-18 18:12:38,253] Trial 23 finished with value: 0.8808943796707644 and parameters: {'learning_rate': 0.10184307805244794, 'min_split_loss': 7, 'reg_lambda': 11, 'max_depth': 8, 'subsample': 0.6023081985637033, 'colsample_bytree': 0.6658189792461779, 'min_child_weight': 17}. Best is trial 19 with value: 0.882396559656363.\n",
      "[I 2024-05-18 18:12:48,644] Trial 24 finished with value: 0.8662078982167172 and parameters: {'learning_rate': 0.49877615939297304, 'min_split_loss': 2, 'reg_lambda': 17, 'max_depth': 10, 'subsample': 0.4219342300713848, 'colsample_bytree': 0.33927683047401846, 'min_child_weight': 13}. Best is trial 19 with value: 0.882396559656363.\n",
      "[I 2024-05-18 18:12:52,439] Trial 25 finished with value: 0.881788621815051 and parameters: {'learning_rate': 0.12777783205842122, 'min_split_loss': 7, 'reg_lambda': 8, 'max_depth': 8, 'subsample': 0.7477453963968866, 'colsample_bytree': 0.7307132460768238, 'min_child_weight': 10}. Best is trial 19 with value: 0.882396559656363.\n",
      "[I 2024-05-18 18:12:58,661] Trial 26 finished with value: 0.8700170985745859 and parameters: {'learning_rate': 0.29815892908131425, 'min_split_loss': 3, 'reg_lambda': 7, 'max_depth': 9, 'subsample': 0.47186394031258994, 'colsample_bytree': 0.5732571607364592, 'min_child_weight': 8}. Best is trial 19 with value: 0.882396559656363.\n",
      "[I 2024-05-18 18:13:03,855] Trial 27 finished with value: 0.8691685624333729 and parameters: {'learning_rate': 0.01719450775054225, 'min_split_loss': 8, 'reg_lambda': 9, 'max_depth': 6, 'subsample': 0.5371618635448447, 'colsample_bytree': 0.8860677294930476, 'min_child_weight': 10}. Best is trial 19 with value: 0.882396559656363.\n",
      "[I 2024-05-18 18:13:16,635] Trial 28 finished with value: 0.882140083292734 and parameters: {'learning_rate': 0.03978451176120138, 'min_split_loss': 0, 'reg_lambda': 5, 'max_depth': 8, 'subsample': 0.8490575579728059, 'colsample_bytree': 0.9822758497775569, 'min_child_weight': 6}. Best is trial 19 with value: 0.882396559656363.\n",
      "[I 2024-05-18 18:13:39,616] Trial 29 finished with value: 0.880454195475091 and parameters: {'learning_rate': 0.045819988521307226, 'min_split_loss': 0, 'reg_lambda': 1, 'max_depth': 10, 'subsample': 0.8720521209008038, 'colsample_bytree': 0.9679499484957318, 'min_child_weight': 1}. Best is trial 19 with value: 0.882396559656363.\n",
      "[I 2024-05-18 18:13:51,053] Trial 30 finished with value: 0.8777742345791308 and parameters: {'learning_rate': 0.012784089660159785, 'min_split_loss': 2, 'reg_lambda': 5, 'max_depth': 10, 'subsample': 0.8620610449749081, 'colsample_bytree': 0.2917634092316067, 'min_child_weight': 6}. Best is trial 19 with value: 0.882396559656363.\n",
      "[I 2024-05-18 18:13:55,441] Trial 31 finished with value: 0.8827148545306687 and parameters: {'learning_rate': 0.10832617711661242, 'min_split_loss': 6, 'reg_lambda': 13, 'max_depth': 9, 'subsample': 0.7449809569181399, 'colsample_bytree': 0.8418282437418194, 'min_child_weight': 7}. Best is trial 31 with value: 0.8827148545306687.\n",
      "[I 2024-05-18 18:14:02,933] Trial 32 finished with value: 0.8815348119825523 and parameters: {'learning_rate': 0.03881103567865225, 'min_split_loss': 5, 'reg_lambda': 13, 'max_depth': 9, 'subsample': 0.9997153300773591, 'colsample_bytree': 0.8322319114561332, 'min_child_weight': 7}. Best is trial 31 with value: 0.8827148545306687.\n",
      "[I 2024-05-18 18:14:05,268] Trial 33 finished with value: 0.8688933633024654 and parameters: {'learning_rate': 0.21880271148759556, 'min_split_loss': 29, 'reg_lambda': 13, 'max_depth': 6, 'subsample': 0.6236459827813748, 'colsample_bytree': 0.934187177703204, 'min_child_weight': 3}. Best is trial 31 with value: 0.8827148545306687.\n",
      "[I 2024-05-18 18:14:08,667] Trial 34 finished with value: 0.8795357884480038 and parameters: {'learning_rate': 0.08918146087607465, 'min_split_loss': 11, 'reg_lambda': 3, 'max_depth': 9, 'subsample': 0.5464850227663782, 'colsample_bytree': 0.9245448987181005, 'min_child_weight': 7}. Best is trial 31 with value: 0.8827148545306687.\n",
      "[I 2024-05-18 18:14:17,618] Trial 35 finished with value: 0.8577175552847152 and parameters: {'learning_rate': 0.005531511354899278, 'min_split_loss': 3, 'reg_lambda': 12, 'max_depth': 8, 'subsample': 0.8560902368001506, 'colsample_bytree': 0.8561200556022264, 'min_child_weight': 6}. Best is trial 31 with value: 0.8827148545306687.\n",
      "[I 2024-05-18 18:14:21,864] Trial 36 finished with value: 0.8402339259386326 and parameters: {'learning_rate': 0.0011838157845419823, 'min_split_loss': 9, 'reg_lambda': 17, 'max_depth': 10, 'subsample': 0.5060993432938057, 'colsample_bytree': 0.10483864470226167, 'min_child_weight': 8}. Best is trial 31 with value: 0.8827148545306687.\n",
      "[I 2024-05-18 18:14:30,954] Trial 37 finished with value: 0.8828362350449627 and parameters: {'learning_rate': 0.05148828998823237, 'min_split_loss': 0, 'reg_lambda': 6, 'max_depth': 9, 'subsample': 0.659293200197824, 'colsample_bytree': 0.9287928703001443, 'min_child_weight': 12}. Best is trial 37 with value: 0.8828362350449627.\n",
      "[I 2024-05-18 18:14:41,606] Trial 38 finished with value: 0.8814921066863699 and parameters: {'learning_rate': 0.03880077952919026, 'min_split_loss': 0, 'reg_lambda': 5, 'max_depth': 10, 'subsample': 0.6607503512221784, 'colsample_bytree': 0.915334672957513, 'min_child_weight': 11}. Best is trial 37 with value: 0.8828362350449627.\n",
      "[I 2024-05-18 18:14:46,617] Trial 39 finished with value: 0.8823991098325982 and parameters: {'learning_rate': 0.04917368796967801, 'min_split_loss': 2, 'reg_lambda': 15, 'max_depth': 5, 'subsample': 0.6594572841888326, 'colsample_bytree': 0.9986242930139086, 'min_child_weight': 12}. Best is trial 37 with value: 0.8828362350449627.\n",
      "[I 2024-05-18 18:14:51,695] Trial 40 finished with value: 0.8830064702623307 and parameters: {'learning_rate': 0.05849412590170395, 'min_split_loss': 2, 'reg_lambda': 15, 'max_depth': 5, 'subsample': 0.6516972891507935, 'colsample_bytree': 0.8101718549651528, 'min_child_weight': 13}. Best is trial 40 with value: 0.8830064702623307.\n",
      "[I 2024-05-18 18:14:57,841] Trial 41 finished with value: 0.8838653787221867 and parameters: {'learning_rate': 0.07840922749254706, 'min_split_loss': 2, 'reg_lambda': 15, 'max_depth': 5, 'subsample': 0.653997769164365, 'colsample_bytree': 0.8263332660331102, 'min_child_weight': 12}. Best is trial 41 with value: 0.8838653787221867.\n",
      "[I 2024-05-18 18:15:03,746] Trial 42 finished with value: 0.8828192578718094 and parameters: {'learning_rate': 0.051519087411809036, 'min_split_loss': 2, 'reg_lambda': 15, 'max_depth': 5, 'subsample': 0.6632822177651287, 'colsample_bytree': 0.7915077423668455, 'min_child_weight': 12}. Best is trial 41 with value: 0.8838653787221867.\n",
      "[I 2024-05-18 18:15:08,783] Trial 43 finished with value: 0.8833877434072352 and parameters: {'learning_rate': 0.07042212199420156, 'min_split_loss': 2, 'reg_lambda': 20, 'max_depth': 4, 'subsample': 0.7391078223645311, 'colsample_bytree': 0.8052714753912534, 'min_child_weight': 12}. Best is trial 41 with value: 0.8838653787221867.\n",
      "[I 2024-05-18 18:15:13,896] Trial 44 finished with value: 0.8821536868880683 and parameters: {'learning_rate': 0.0644418799348027, 'min_split_loss': 2, 'reg_lambda': 23, 'max_depth': 4, 'subsample': 0.6197432090112951, 'colsample_bytree': 0.7802012321718904, 'min_child_weight': 12}. Best is trial 41 with value: 0.8838653787221867.\n",
      "[I 2024-05-18 18:15:19,012] Trial 45 finished with value: 0.8752000599118979 and parameters: {'learning_rate': 0.026475429088396726, 'min_split_loss': 3, 'reg_lambda': 21, 'max_depth': 5, 'subsample': 0.6675833741712451, 'colsample_bytree': 0.624581912658313, 'min_child_weight': 13}. Best is trial 41 with value: 0.8838653787221867.\n",
      "[I 2024-05-18 18:15:23,924] Trial 46 finished with value: 0.8837371703651071 and parameters: {'learning_rate': 0.0765218217279375, 'min_split_loss': 1, 'reg_lambda': 19, 'max_depth': 4, 'subsample': 0.7353447038454093, 'colsample_bytree': 0.8784637354689994, 'min_child_weight': 11}. Best is trial 41 with value: 0.8838653787221867.\n",
      "[I 2024-05-18 18:15:29,164] Trial 47 finished with value: 0.88378333221826 and parameters: {'learning_rate': 0.0745358027556264, 'min_split_loss': 1, 'reg_lambda': 19, 'max_depth': 4, 'subsample': 0.7407009889157106, 'colsample_bytree': 0.8883862730919619, 'min_child_weight': 11}. Best is trial 41 with value: 0.8838653787221867.\n",
      "[I 2024-05-18 18:15:33,979] Trial 48 finished with value: 0.8831650127292188 and parameters: {'learning_rate': 0.08123246026922681, 'min_split_loss': 4, 'reg_lambda': 19, 'max_depth': 4, 'subsample': 0.7492747183077837, 'colsample_bytree': 0.8918299451727983, 'min_child_weight': 9}. Best is trial 41 with value: 0.8838653787221867.\n",
      "[I 2024-05-18 18:15:38,556] Trial 49 finished with value: 0.8821809897709686 and parameters: {'learning_rate': 0.07534986457945876, 'min_split_loss': 4, 'reg_lambda': 19, 'max_depth': 3, 'subsample': 0.7533889991329694, 'colsample_bytree': 0.8774090530483611, 'min_child_weight': 9}. Best is trial 41 with value: 0.8838653787221867.\n"
     ]
    },
    {
     "name": "stdout",
     "output_type": "stream",
     "text": [
      "CPU times: user 1h 9min 59s, sys: 48 s, total: 1h 10min 47s\n",
      "Wall time: 4min 26s\n"
     ]
    }
   ],
   "source": [
    "%%time\n",
    "def objective(trial):\n",
    "    clf = XGBClassifier(\n",
    "        objective=\"binary:logistic\",\n",
    "        verbosity=0,\n",
    "        learning_rate=trial.suggest_float(\"learning_rate\", 1e-3, 0.5, log=True), #alias eta\n",
    "        min_split_loss=trial.suggest_int(\"min_split_loss\", 0, 30), #alias gamma\n",
    "        reg_lambda=trial.suggest_int(\"reg_lambda\", 1, 30),\n",
    "        max_depth=trial.suggest_int(\"max_depth\", 1, 10),\n",
    "        subsample=trial.suggest_float(\"subsample\", 0.05, 1.0),\n",
    "        colsample_bytree=trial.suggest_float(\"colsample_bytree\", 0.05, 1.0),\n",
    "        min_child_weight=trial.suggest_int(\"min_child_weight\", 1, 20),\n",
    "        tree_method='hist',\n",
    "        n_estimators=100,\n",
    "        \n",
    "        # predictor='gpu_predictor'\n",
    "    )\n",
    "\n",
    "    score = cross_val_score(clf, X, y, scoring=auc_score, cv=5).mean()\n",
    "\n",
    "    # score = cross_val_score(clf, X, y, cv=5, scoring='roc_auc').mean()\n",
    "    return score\n",
    "\n",
    "study = optuna.create_study(direction='maximize')\n",
    "study.optimize(objective, n_trials=50)"
   ]
  },
  {
   "cell_type": "markdown",
   "id": "ce5fa27e-1cba-4ad7-a3a2-8aeffa06797f",
   "metadata": {},
   "source": [
    "___\n",
    "\n",
    "<previous>\n",
    "Best hyperparameters: {'learning_rate': 0.10258040309793745, 'min_split_loss': 3, 'reg_lambda': 23, 'max_depth': 9, 'subsample': 0.7588835041823632, 'colsample_bytree': 0.9101347208809124, 'min_child_weight': 14}\n",
    "\n",
    "Best is trial 25 with value: 0.8829777101244968.\n",
    "\n",
    "CPU times: user 26min 55s, sys: 16.4 s, total: 27min 12s\n",
    "Wall time: 3min 24s"
   ]
  },
  {
   "cell_type": "markdown",
   "id": "9cfd420a-95c2-4e2e-aba0-7722b1953e92",
   "metadata": {},
   "source": [
    "## Trial 2"
   ]
  },
  {
   "cell_type": "code",
   "execution_count": null,
   "id": "9f7d2ddd-6a70-4867-af48-d2402ecf8464",
   "metadata": {},
   "outputs": [
    {
     "name": "stderr",
     "output_type": "stream",
     "text": [
      "[I 2024-05-18 18:15:38,572] A new study created in memory with name: no-name-30636938-88b6-4ad2-acf6-9edfd43f0585\n",
      "[I 2024-05-18 18:15:43,199] Trial 0 finished with value: 0.8809891247920334 and parameters: {'learning_rate': 0.2474259677660816, 'min_split_loss': 4, 'reg_lambda': 18, 'max_depth': 15, 'subsample': 0.5538526531287781, 'colsample_bytree': 0.5337437765059053, 'min_child_weight': 7}. Best is trial 0 with value: 0.8809891247920334.\n",
      "[I 2024-05-18 18:15:46,850] Trial 1 finished with value: 0.880370186078949 and parameters: {'learning_rate': 0.3626451451841311, 'min_split_loss': 4, 'reg_lambda': 35, 'max_depth': 6, 'subsample': 0.6699058849021429, 'colsample_bytree': 0.74259075784517, 'min_child_weight': 8}. Best is trial 0 with value: 0.8809891247920334.\n",
      "[I 2024-05-18 18:15:49,885] Trial 2 finished with value: 0.8789332764029419 and parameters: {'learning_rate': 0.4785173837689242, 'min_split_loss': 5, 'reg_lambda': 32, 'max_depth': 11, 'subsample': 0.6514875975285264, 'colsample_bytree': 0.5722555301622185, 'min_child_weight': 6}. Best is trial 0 with value: 0.8809891247920334.\n",
      "[I 2024-05-18 18:15:54,979] Trial 3 finished with value: 0.882685522453408 and parameters: {'learning_rate': 0.08140110817373018, 'min_split_loss': 4, 'reg_lambda': 26, 'max_depth': 8, 'subsample': 0.9814378009848832, 'colsample_bytree': 0.8712718880979002, 'min_child_weight': 25}. Best is trial 3 with value: 0.882685522453408.\n",
      "[I 2024-05-18 18:15:57,558] Trial 4 finished with value: 0.881027278594282 and parameters: {'learning_rate': 0.2395210294657167, 'min_split_loss': 6, 'reg_lambda': 17, 'max_depth': 7, 'subsample': 0.8322500214325189, 'colsample_bytree': 0.6504383366242026, 'min_child_weight': 25}. Best is trial 3 with value: 0.882685522453408.\n",
      "[I 2024-05-18 18:16:01,359] Trial 5 finished with value: 0.88194056564388 and parameters: {'learning_rate': 0.1250272742995795, 'min_split_loss': 6, 'reg_lambda': 17, 'max_depth': 5, 'subsample': 0.9346255805221069, 'colsample_bytree': 0.7905872926786974, 'min_child_weight': 19}. Best is trial 3 with value: 0.882685522453408.\n"
     ]
    }
   ],
   "source": [
    "%%time\n",
    "def objective(trial):\n",
    "    clf = XGBClassifier(\n",
    "        objective=\"binary:logistic\",\n",
    "        verbosity=0,\n",
    "        learning_rate=trial.suggest_float(\"learning_rate\", 0.05, 0.5, log=True), #alias eta\n",
    "        min_split_loss=trial.suggest_int(\"min_split_loss\", 0, 6), #alias gamma\n",
    "        reg_lambda=trial.suggest_int(\"reg_lambda\", 10, 35),\n",
    "        max_depth=trial.suggest_int(\"max_depth\", 5, 15),\n",
    "        subsample=trial.suggest_float(\"subsample\", 0.5, 1.0),\n",
    "        colsample_bytree=trial.suggest_float(\"colsample_bytree\", 0.5, 1.0),\n",
    "        min_child_weight=trial.suggest_int(\"min_child_weight\", 5, 25),\n",
    "        tree_method='hist',\n",
    "        n_estimators=100,\n",
    "        \n",
    "        # predictor='gpu_predictor'\n",
    "    )\n",
    "    score = cross_val_score(clf, X, y, scoring=auc_score, cv=5).mean()\n",
    "    return score\n",
    "\n",
    "study = optuna.create_study(direction='maximize')\n",
    "study.optimize(objective, n_trials=50)\n",
    "print('Best hyperparameters:', study.best_params)"
   ]
  },
  {
   "cell_type": "markdown",
   "id": "aedfcb76-df67-46ab-918a-765712446260",
   "metadata": {},
   "source": [
    "__\n",
    "\n",
    "Previous results\n",
    "I got a score of 0.8902636942892138 on the test set, which is a significant improvement on the 0.8744 we got with the default parameters "
   ]
  },
  {
   "cell_type": "markdown",
   "id": "4573556f-0029-497b-95b4-714c80763be9",
   "metadata": {},
   "source": [
    "### Validation of trial 2"
   ]
  },
  {
   "cell_type": "code",
   "execution_count": null,
   "id": "d6abc26a-a6f6-4823-ab40-0eb65d75d561",
   "metadata": {},
   "outputs": [],
   "source": [
    "best_params = {'learning_rate': 0.08410907490988277, 'min_split_loss': 2, \n",
    "               'reg_lambda': 20, 'max_depth': 6, 'subsample': 0.8141038954347868, \n",
    "               'colsample_bytree': 0.5592567989158034, 'min_child_weight': 16}\n",
    "xgb_tuned = XGBClassifier(**best_params, n_estimators=1000)\n",
    "xgb_tuned.fit(X, y)"
   ]
  },
  {
   "cell_type": "code",
   "execution_count": null,
   "id": "2fbc8198-1b6b-49ae-8123-191763a3317b",
   "metadata": {},
   "outputs": [],
   "source": [
    "score = auc_score(xgb_tuned, X_t, y_t)\n",
    "score"
   ]
  },
  {
   "cell_type": "markdown",
   "id": "665769de-407b-4f0a-ae0a-17901eae499f",
   "metadata": {},
   "source": [
    "### Trial 3 brute force"
   ]
  },
  {
   "cell_type": "markdown",
   "id": "ef858c2b-05a6-4f4c-b591-7e05805bf5d8",
   "metadata": {},
   "source": [
    "Here I am going to try an increased number of hyperparameters with more rounds and see what happens"
   ]
  },
  {
   "cell_type": "code",
   "execution_count": null,
   "id": "36907adf-2b67-4800-b30f-4e9c832a8cda",
   "metadata": {},
   "outputs": [],
   "source": [
    "%%time\n",
    "def objective(trial):\n",
    "    clf = XGBClassifier(\n",
    "        objective=\"binary:logistic\",\n",
    "        verbosity=0,\n",
    "        learning_rate=trial.suggest_float(\"learning_rate\", 0.05, 0.3, log=True), #alias eta\n",
    "        min_split_loss=trial.suggest_int(\"min_split_loss\", 0, 6), #alias gamma\n",
    "        reg_lambda=trial.suggest_int(\"reg_lambda\", 10, 35),\n",
    "        max_depth=trial.suggest_int(\"max_depth\", 3, 15),\n",
    "        subsample=trial.suggest_float(\"subsample\", 0.5, 1.0),\n",
    "        colsample_bytree=trial.suggest_float(\"colsample_bytree\", 0.3, 0.8),\n",
    "        min_child_weight=trial.suggest_int(\"min_child_weight\", 5, 20),\n",
    "        tree_method='hist',\n",
    "        n_estimators=200,\n",
    "\n",
    "        colsample_bylevel=trial.suggest_float(\"colsample_bylevel\", 0.1, 1.0),\n",
    "        colsample_bynode=trial.suggest_float(\"colsample_bynode\", 0.1, 1.0),\n",
    "        reg_alpha=trial.suggest_int(\"reg_alpha\", 0, 10)\n",
    "        \n",
    "        # predictor='gpu_predictor'\n",
    "    )\n",
    "    score = cross_val_score(clf, X, y, scoring=auc_score, cv=3).mean()\n",
    "    return score\n",
    "\n",
    "study = optuna.create_study(direction='maximize')\n",
    "study.optimize(objective, n_trials=500)\n",
    "print('Best hyperparameters:', study.best_params)"
   ]
  },
  {
   "cell_type": "markdown",
   "id": "3f689c72-e158-413c-b891-db7ca850b376",
   "metadata": {},
   "source": []
  },
  {
   "cell_type": "markdown",
   "id": "c561b4a0-ebb2-4884-b53c-b4510b5ab679",
   "metadata": {},
   "source": [
    "Previous sets of results:\n",
    "Best is trial 413 with value: 0.885647937243489\n",
    "Best hyperparameters: {'learning_rate': 0.06968316190044742, 'min_split_loss': 1, 'reg_lambda': 24, 'max_depth': 5, 'subsample': 0.9906953118234637, 'colsample_bytree': 0.3258025562215848, 'min_child_weight': 5, 'colsample_bylevel': 0.7473381589535361, 'colsample_bynode': 0.896729936375899, 'reg_alpha': 0}\n",
    "CPU times: user 5h 19min 3s, sys: 3min 21s, total: 5h 22min 25s\n",
    "Wall time: 40min 18s\n",
    "\n",
    "Trial 100 finished with value: 0.8855198659438193 and parameters: {'learning_rate': 0.06543786100681456, 'min_split_loss': 1, 'reg_lambda': 24, 'max_depth': 6, 'subsample': 0.9998978435460225, 'colsample_bytree': 0.3255760701926972, 'min_child_weight': 5, 'colsample_bylevel': 0.9391003933370177, 'colsample_bynode': 0.9979759672213127, 'reg_alpha': 1}. Best is trial 100 with value: 0.8855198659438193.\n",
    "\n",
    "Trial 228 finished with value: 0.8856404469468021 and parameters: {'learning_rate': 0.06783207140063613, 'min_split_loss': 1, 'reg_lambda': 24, 'max_depth': 6, 'subsample': 0.990662871547234, 'colsample_bytree': 0.31151856870493166, 'min_child_weight': 5, 'colsample_bylevel': 0.7809688716778227, 'colsample_bynode': 0.931803688219953, 'reg_alpha': 1}. Best is trial 228 with value: 0.8856404469468021.\n",
    "\n",
    "This got scores of 0.88307(private) and 0.89099(public) on submitting to Kaggle. Position 823 of 2199"
   ]
  },
  {
   "cell_type": "markdown",
   "id": "647f9a33-af3a-4b94-bd06-fa1babb90f6a",
   "metadata": {},
   "source": [
    "# Assessing our results"
   ]
  },
  {
   "cell_type": "markdown",
   "id": "846681b9-a5ec-4c46-9d69-4e5c9003e6a9",
   "metadata": {},
   "source": [
    "We can do this using a train/test split - This improved the metric from a data leakage point of view, since the data we use for testing were never seen by the model. The drawback is a smaller sample size for both training and validation"
   ]
  },
  {
   "cell_type": "code",
   "execution_count": null,
   "id": "7e9a7b45-faef-43e8-89f3-bb05588b0e9a",
   "metadata": {},
   "outputs": [],
   "source": [
    "best_params = {'learning_rate': 0.06783207140063613, 'min_split_loss': 1, \n",
    "               'reg_lambda': 24, 'max_depth': 6, 'subsample': 0.990662871547234, \n",
    "               'colsample_bytree': 0.31151856870493166, 'min_child_weight': 5, \n",
    "               'colsample_bylevel': 0.7809688716778227, 'colsample_bynode': 0.931803688219953, \n",
    "               'reg_alpha': 1}\n",
    "xgb_tuned = XGBClassifier(**best_params, n_estimators=1000)\n",
    "xgb_tuned.fit(X, y)\n",
    "\n",
    "preds = xgb_tuned.predict(X_t)\n",
    "\n",
    "print(classification_report(y_t, \n",
    "                            preds, \n",
    "                            target_names=target_classes))"
   ]
  },
  {
   "cell_type": "markdown",
   "id": "c3ff605b-4f9b-4208-a8b7-34d9eda8b83a",
   "metadata": {},
   "source": [
    "Or we can do it with stratified cross-valdiation. Now we do have the concern of data leakage, as the model has technically seen the data it will be validated on. But it has the advantage of us have more data to assess per-class performance on"
   ]
  },
  {
   "cell_type": "code",
   "execution_count": null,
   "id": "313560b4-374d-4448-be02-018e49d38b34",
   "metadata": {},
   "outputs": [],
   "source": [
    "%%time\n",
    "cv = StratifiedKFold(5, shuffle=True, random_state=0)\n",
    "cv_splits = cv.split(train_df_multiclass, y=target_multiclass)\n",
    "target_classes_mult = [\"Zero_Defects\", \"Pastry\", \"Z_Scratch\", \"K_Scatch\", \"Stains\", \"Dirtiness\", \"Bumps\", \"Other_Faults\"]\n",
    "roc_auc_scores = list()\n",
    "cv_oof = pd.DataFrame(np.zeros((len(target_multiclass), len(target_classes_mult))), columns=target_classes_mult)\n",
    "\n",
    "for train_idx, val_idx in cv_splits:\n",
    "    \n",
    "    xgb = XGBClassifier(**best_params, n_estimators=300)\n",
    "\n",
    "    X_train_fold, X_val_fold = train_df_multiclass.iloc[train_idx], train_df_multiclass.iloc[val_idx]\n",
    "    y_train_fold, y_val_fold = target_multiclass[train_idx], target_multiclass[val_idx]\n",
    "    \n",
    "    xgb.fit(X_train_fold, y_train_fold)\n",
    "    \n",
    "    y_val_prob = xgb.predict_proba(X_val_fold)\n",
    "    # We compute the validation score on the original multilabel targets\n",
    "    roc_auc = roc_auc_score(targets_df.iloc[val_idx], y_val_prob[:, 1:], multi_class='ovr')\n",
    "    \n",
    "    cv_oof.iloc[val_idx, :] = y_val_prob\n",
    "    \n",
    "    roc_auc_scores.append(roc_auc)\n",
    "\n",
    "# Calculate the ROC AUC score statistics across all folds\n",
    "roc_auc_mean = np.mean(roc_auc_scores)\n",
    "roc_auc_std = np.std(roc_auc_scores)\n",
    "roc_auc_max = np.max(roc_auc_scores)\n",
    "roc_auc_min = np.min(roc_auc_scores)\n",
    "\n",
    "print(f'Cross-validated ROC-AUC score: {roc_auc_mean:.3f} +/- {roc_auc_std:.3f}')\n",
    "print(f'Max ROC-AUC score: {roc_auc_max:.3f}')"
   ]
  },
  {
   "cell_type": "markdown",
   "id": "63aa6d45-7d08-4ebf-9a62-0545f45a873b",
   "metadata": {},
   "source": [
    "## Validation"
   ]
  },
  {
   "cell_type": "code",
   "execution_count": null,
   "id": "25fa1b28-f1f5-4f37-b59f-2132f7c23806",
   "metadata": {},
   "outputs": [],
   "source": [
    "best_params = \n",
    "xgb_tuned = XGBClassifier(**best_params, n_estimators=1000)\n",
    "xgb_tuned.fit(X, y)\n",
    "score = auc_score(xgb_tuned, X_t, y_t)\n",
    "score"
   ]
  }
 ],
 "metadata": {
  "kernelspec": {
   "display_name": "Python 3 (ipykernel)",
   "language": "python",
   "name": "python3"
  },
  "language_info": {
   "codemirror_mode": {
    "name": "ipython",
    "version": 3
   },
   "file_extension": ".py",
   "mimetype": "text/x-python",
   "name": "python",
   "nbconvert_exporter": "python",
   "pygments_lexer": "ipython3",
   "version": "3.10.13"
  }
 },
 "nbformat": 4,
 "nbformat_minor": 5
}
